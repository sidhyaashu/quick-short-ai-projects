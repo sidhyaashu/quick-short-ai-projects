{
 "cells": [
  {
   "cell_type": "code",
   "execution_count": null,
   "id": "f44cb75c",
   "metadata": {},
   "outputs": [
    {
     "name": "stdout",
     "output_type": "stream",
     "text": [
      "content='Hi there! How can I help you today?' additional_kwargs={} response_metadata={'prompt_feedback': {'block_reason': 0, 'safety_ratings': []}, 'finish_reason': 'STOP', 'safety_ratings': []} id='run-8836a025-c170-48ea-8557-c203205f3aa9-0' usage_metadata={'input_tokens': 1, 'output_tokens': 11, 'total_tokens': 12, 'input_token_details': {'cache_read': 0}}\n"
     ]
    }
   ],
   "source": [
    "import os\n",
    "from dotenv import load_dotenv\n",
    "from langchain_google_genai import ChatGoogleGenerativeAI\n",
    "\n",
    "load_dotenv()\n",
    "# api_key = os.getenv(\"GROQ_API_KEY\")\n",
    "# GEMINI_API_KEY=os.getenv(\"GEMINI_API_KEY\")\n",
    "os.environ[\"GEMINI_API_KEY\"]=\"<Your API key>\"\n",
    "\n",
    "class LLMModel:\n",
    "    def __init__(self, model_name=\"gemini-2.0-flash\"):\n",
    "        if not model_name:\n",
    "            raise ValueError(\"Model is not defined.\")\n",
    "        self.model_name = model_name\n",
    "        self.openai_model=ChatGoogleGenerativeAI(model=self.model_name,google_api_key=os.getenv(\"GEMINI_API_KEY\"))\n",
    "        \n",
    "    def get_model(self):\n",
    "        return self.openai_model\n",
    "\n",
    "if __name__ == \"__main__\":\n",
    "    llm_instance = LLMModel()  \n",
    "    llm_model = llm_instance.get_model()\n",
    "    response=llm_model.invoke(\"hi\")\n",
    "\n",
    "    print(response)"
   ]
  },
  {
   "cell_type": "code",
   "execution_count": null,
   "id": "630be3df",
   "metadata": {},
   "outputs": [],
   "source": []
  }
 ],
 "metadata": {
  "kernelspec": {
   "display_name": "Python 3",
   "language": "python",
   "name": "python3"
  },
  "language_info": {
   "codemirror_mode": {
    "name": "ipython",
    "version": 3
   },
   "file_extension": ".py",
   "mimetype": "text/x-python",
   "name": "python",
   "nbconvert_exporter": "python",
   "pygments_lexer": "ipython3",
   "version": "3.10.16"
  }
 },
 "nbformat": 4,
 "nbformat_minor": 5
}
