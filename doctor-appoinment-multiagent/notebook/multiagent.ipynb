{
 "cells": [
  {
   "cell_type": "code",
   "execution_count": 64,
   "metadata": {},
   "outputs": [],
   "source": [
    "import re\n",
    "import pandas as pd\n",
    "from typing import  Literal,List,Any\n",
    "from langchain_core.tools import tool\n",
    "from langchain_groq import ChatGroq\n",
    "from langgraph.types import Command\n",
    "from langgraph.graph.message import add_messages\n",
    "from typing_extensions import TypedDict, Annotated\n",
    "from langchain_core.prompts.chat import ChatPromptTemplate\n",
    "from langgraph.graph import START, StateGraph,END\n",
    "from langgraph.prebuilt import create_react_agent\n",
    "from pydantic import BaseModel, Field, field_validator\n",
    "from langchain_core.messages import HumanMessage,AIMessage\n",
    "from langchain_openai import ChatOpenAI\n",
    "from dotenv import load_dotenv\n"
   ]
  },
  {
   "cell_type": "code",
   "execution_count": 65,
   "metadata": {},
   "outputs": [
    {
     "data": {
      "text/plain": [
       "True"
      ]
     },
     "execution_count": 65,
     "metadata": {},
     "output_type": "execute_result"
    }
   ],
   "source": [
    "# import os\n",
    "# groq_api_key = os.getenv(\"GROQ_API_KEY\")  # ENV variable se le raha hai\n",
    "\n",
    "# groq_model = ChatGroq(\n",
    "#     model=\"deepseek-r1-distill-llama-70b\",\n",
    "#     api_key=groq_api_key  # Secure API key usage\n",
    "# )\n",
    "\n",
    "load_dotenv()\n"
   ]
  },
  {
   "cell_type": "code",
   "execution_count": 66,
   "metadata": {},
   "outputs": [],
   "source": [
    "import os\n",
    "OPENAI_API_KEY=os.getenv(\"OPENAI_API_KEY\")"
   ]
  },
  {
   "cell_type": "code",
   "execution_count": 67,
   "metadata": {},
   "outputs": [],
   "source": [
    "import os\n",
    "os.environ[\"OPENAI_API_KEY\"]=OPENAI_API_KEY"
   ]
  },
  {
   "cell_type": "code",
   "execution_count": 68,
   "metadata": {},
   "outputs": [],
   "source": [
    "openai_model=ChatOpenAI(model=\"gpt-4o\")"
   ]
  },
  {
   "cell_type": "code",
   "execution_count": 69,
   "metadata": {},
   "outputs": [
    {
     "data": {
      "text/plain": [
       "AIMessage(content='Hello! How can I assist you today?', additional_kwargs={'refusal': None}, response_metadata={'token_usage': {'completion_tokens': 10, 'prompt_tokens': 8, 'total_tokens': 18, 'completion_tokens_details': {'accepted_prediction_tokens': 0, 'audio_tokens': 0, 'reasoning_tokens': 0, 'rejected_prediction_tokens': 0}, 'prompt_tokens_details': {'audio_tokens': 0, 'cached_tokens': 0}}, 'model_name': 'gpt-4o-2024-08-06', 'system_fingerprint': 'fp_6dd05565ef', 'id': 'chatcmpl-BJxgcoUM75uUEiSIDx3mUoNAo8dDu', 'finish_reason': 'stop', 'logprobs': None}, id='run-90ca590b-63e3-4025-ba85-2a8a72a541db-0', usage_metadata={'input_tokens': 8, 'output_tokens': 10, 'total_tokens': 18, 'input_token_details': {'audio': 0, 'cache_read': 0}, 'output_token_details': {'audio': 0, 'reasoning': 0}})"
      ]
     },
     "execution_count": 69,
     "metadata": {},
     "output_type": "execute_result"
    }
   ],
   "source": [
    "openai_model.invoke(\"hi\")"
   ]
  },
  {
   "cell_type": "code",
   "execution_count": 70,
   "metadata": {},
   "outputs": [],
   "source": [
    "class DateTimeModel(BaseModel):\n",
    "    date: str = Field(description=\"Properly formatted date\", pattern=r'^\\d{2}-\\d{2}-\\d{4} \\d{2}:\\d{2}$')\n",
    "\n",
    "    @field_validator(\"date\")\n",
    "    def check_format_date(cls, v):\n",
    "        if not re.match(r'^\\d{2}-\\d{2}-\\d{4} \\d{2}:\\d{2}$', v):  # Ensures 'DD-MM-YYYY HH:MM' format\n",
    "            raise ValueError(\"The date should be in format 'DD-MM-YYYY HH:MM'\")\n",
    "        return v"
   ]
  },
  {
   "cell_type": "code",
   "execution_count": 71,
   "metadata": {},
   "outputs": [],
   "source": [
    "class DateModel(BaseModel):\n",
    "    date: str = Field(description=\"Properly formatted date\", pattern=r'^\\d{2}-\\d{2}-\\d{4}$')\n",
    "\n",
    "    @field_validator(\"date\")\n",
    "    def check_format_date(cls, v):\n",
    "        if not re.match(r'^\\d{2}-\\d{2}-\\d{4}$', v):  # Ensures DD-MM-YYYY format\n",
    "            raise ValueError(\"The date must be in the format 'DD-MM-YYYY'\")\n",
    "        return v"
   ]
  },
  {
   "cell_type": "code",
   "execution_count": 72,
   "metadata": {},
   "outputs": [],
   "source": [
    "class IdentificationNumberModel(BaseModel):\n",
    "    id: int = Field(description=\"Identification number (7 or 8 digits long)\")\n",
    "    @field_validator(\"id\")\n",
    "    def check_format_id(cls, v):\n",
    "        if not re.match(r'^\\d{7,8}$', str(v)):  # Convert to string before matching\n",
    "            raise ValueError(\"The ID number should be a 7 or 8-digit number\")\n",
    "        return v"
   ]
  },
  {
   "cell_type": "code",
   "execution_count": 73,
   "metadata": {},
   "outputs": [],
   "source": [
    "@tool\n",
    "def check_availability_by_doctor(desired_date:DateModel, doctor_name:Literal['kevin anderson','robert martinez','susan davis','daniel miller','sarah wilson','michael green','lisa brown','jane smith','emily johnson','john doe']):\n",
    "    \"\"\"\n",
    "    Checking the database if we have availability for the specific doctor.\n",
    "    The parameters should be mentioned by the user in the query\n",
    "    \"\"\"\n",
    "    df = pd.read_csv(r\"../data/doctor_availability.csv\")\n",
    "    \n",
    "    #print(df)\n",
    "    \n",
    "    df['date_slot_time'] = df['date_slot'].apply(lambda input: input.split(' ')[-1])\n",
    "    \n",
    "    rows = list(df[(df['date_slot'].apply(lambda input: input.split(' ')[0]) == desired_date.date)&(df['doctor_name'] == doctor_name)&(df['is_available'] == True)]['date_slot_time'])\n",
    "\n",
    "    if len(rows) == 0:\n",
    "        output = \"No availability in the entire day\"\n",
    "    else:\n",
    "        output = f'This availability for {desired_date.date}\\n'\n",
    "        output += \"Available slots: \" + ', '.join(rows)\n",
    "\n",
    "    return output"
   ]
  },
  {
   "cell_type": "code",
   "execution_count": 74,
   "metadata": {},
   "outputs": [
    {
     "name": "stdout",
     "output_type": "stream",
     "text": [
      "date='03-09-2024'\n"
     ]
    }
   ],
   "source": [
    "# Example usage:\n",
    "date_instance = DateModel(date=\"03-09-2024\")\n",
    "print(date_instance)"
   ]
  },
  {
   "cell_type": "code",
   "execution_count": 75,
   "metadata": {},
   "outputs": [
    {
     "name": "stdout",
     "output_type": "stream",
     "text": [
      "This availability for 03-09-2024\n",
      "Available slots: 08:00, 08:30, 11:30, 12:00, 12:30, 13:00, 14:00, 14:30, 15:00, 15:30, 16:00, 16:30\n"
     ]
    }
   ],
   "source": [
    "print(check_availability_by_doctor.invoke({\"desired_date\": date_instance, \"doctor_name\": \"kevin anderson\"}))"
   ]
  },
  {
   "cell_type": "code",
   "execution_count": 76,
   "metadata": {},
   "outputs": [],
   "source": [
    "@tool\n",
    "def check_availability_by_specialization(desired_date:DateModel, specialization:Literal[\"general_dentist\", \"cosmetic_dentist\", \"prosthodontist\", \"pediatric_dentist\",\"emergency_dentist\",\"oral_surgeon\",\"orthodontist\"]):\n",
    "    \"\"\"\n",
    "    Checking the database if we have availability for the specific specialization.\n",
    "    The parameters should be mentioned by the user in the query\n",
    "    \"\"\"\n",
    "    #Dummy data\n",
    "    df = pd.read_csv(r\"../data/doctor_availability.csv\")\n",
    "    df['date_slot_time'] = df['date_slot'].apply(lambda input: input.split(' ')[-1])\n",
    "    rows = df[(df['date_slot'].apply(lambda input: input.split(' ')[0]) == desired_date.date) & (df['specialization'] == specialization) & (df['is_available'] == True)].groupby(['specialization', 'doctor_name'])['date_slot_time'].apply(list).reset_index(name='available_slots')\n",
    "\n",
    "    if len(rows) == 0:\n",
    "        output = \"No availability in the entire day\"\n",
    "    else:\n",
    "        def convert_to_am_pm(time_str):\n",
    "            # Split the time string into hours and minutes\n",
    "            time_str = str(time_str)\n",
    "            hours, minutes = map(int, time_str.split(\":\"))\n",
    "            \n",
    "            # Determine AM or PM\n",
    "            period = \"AM\" if hours < 12 else \"PM\"\n",
    "            \n",
    "            # Convert hours to 12-hour format\n",
    "            hours = hours % 12 or 12\n",
    "            \n",
    "            # Format the output\n",
    "            return f\"{hours}:{minutes:02d} {period}\"\n",
    "        output = f'This availability for {desired_date.date}\\n'\n",
    "        for row in rows.values:\n",
    "            output += row[1] + \". Available slots: \\n\" + ', \\n'.join([convert_to_am_pm(value)for value in row[2]])+'\\n'\n",
    "\n",
    "    return output"
   ]
  },
  {
   "cell_type": "code",
   "execution_count": 77,
   "metadata": {},
   "outputs": [
    {
     "name": "stdout",
     "output_type": "stream",
     "text": [
      "date='03-09-2024'\n"
     ]
    }
   ],
   "source": [
    "# Example usage:\n",
    "date_instance = DateModel(date=\"03-09-2024\")\n",
    "print(date_instance)"
   ]
  },
  {
   "cell_type": "code",
   "execution_count": 78,
   "metadata": {},
   "outputs": [
    {
     "name": "stdout",
     "output_type": "stream",
     "text": [
      "This availability for 03-09-2024\n",
      "kevin anderson. Available slots: \n",
      "8:00 AM, \n",
      "8:30 AM, \n",
      "11:30 AM, \n",
      "12:00 PM, \n",
      "12:30 PM, \n",
      "1:00 PM, \n",
      "2:00 PM, \n",
      "2:30 PM, \n",
      "3:00 PM, \n",
      "3:30 PM, \n",
      "4:00 PM, \n",
      "4:30 PM\n",
      "\n"
     ]
    }
   ],
   "source": [
    "print(check_availability_by_specialization.invoke({\"desired_date\": date_instance, \"specialization\": \"orthodontist\"}))"
   ]
  },
  {
   "cell_type": "code",
   "execution_count": 84,
   "metadata": {},
   "outputs": [],
   "source": [
    "## Tools For Booking agent\n",
    "@tool\n",
    "def reschedule_appointment(old_date:DateTimeModel, new_date:DateTimeModel, id_number:IdentificationNumberModel, doctor_name:Literal['kevin anderson','robert martinez','susan davis','daniel miller','sarah wilson','michael green','lisa brown','jane smith','emily johnson','john doe']):\n",
    "    \"\"\"\n",
    "    Rescheduling an appointment.\n",
    "    The parameters MUST be mentioned by the user in the query.\n",
    "    \"\"\"\n",
    "    #Dummy data\n",
    "    df = pd.read_csv(r\"../data/doctor_availability.csv\")\n",
    "    available_for_desired_date = df[(df['date_slot'] == new_date.date)&(df['is_available'] == True)&(df['doctor_name'] == doctor_name)]\n",
    "    if len(available_for_desired_date) == 0:\n",
    "        return \"Not available slots in the desired period\"\n",
    "    else:\n",
    "        cancel_appointment.invoke({'date':old_date, 'id_number':id_number, 'doctor_name':doctor_name})\n",
    "        set_appointment.invoke({'desired_date':new_date, 'id_number': id_number, 'doctor_name': doctor_name})\n",
    "        return \"Successfully rescheduled for the desired time\""
   ]
  },
  {
   "cell_type": "code",
   "execution_count": 88,
   "metadata": {},
   "outputs": [
    {
     "data": {
      "text/plain": [
       "DateTimeModel(date='05-08-2024 08:30')"
      ]
     },
     "execution_count": 88,
     "metadata": {},
     "output_type": "execute_result"
    }
   ],
   "source": [
    "Old_Date_Time = DateTimeModel(date=\"05-08-2024 08:30\")\n",
    "Old_Date_Time"
   ]
  },
  {
   "cell_type": "code",
   "execution_count": 89,
   "metadata": {},
   "outputs": [
    {
     "data": {
      "text/plain": [
       "DateTimeModel(date='28-03-2024 14:30')"
      ]
     },
     "execution_count": 89,
     "metadata": {},
     "output_type": "execute_result"
    }
   ],
   "source": [
    "New_Date_Time = DateTimeModel(date=\"28-03-2024 14:30\")\n",
    "New_Date_Time"
   ]
  },
  {
   "cell_type": "code",
   "execution_count": 90,
   "metadata": {},
   "outputs": [
    {
     "data": {
      "text/plain": [
       "IdentificationNumberModel(id=1000082)"
      ]
     },
     "execution_count": 90,
     "metadata": {},
     "output_type": "execute_result"
    }
   ],
   "source": [
    "IDNumber = IdentificationNumberModel(id=1000082)\n",
    "IDNumber"
   ]
  },
  {
   "cell_type": "code",
   "execution_count": 91,
   "metadata": {},
   "outputs": [
    {
     "name": "stdout",
     "output_type": "stream",
     "text": [
      "Not available slots in the desired period\n"
     ]
    }
   ],
   "source": [
    "print(reschedule_appointment.invoke({\"old_date\": Old_Date_Time,\"new_date\": New_Date_Time,\"id_number\":IDNumber, \"doctor_name\": \"kevin anderson\"}))"
   ]
  },
  {
   "cell_type": "code",
   "execution_count": 79,
   "metadata": {},
   "outputs": [],
   "source": [
    "@tool\n",
    "def cancel_appointment(date:DateTimeModel, id_number:IdentificationNumberModel, doctor_name:Literal['kevin anderson','robert martinez','susan davis','daniel miller','sarah wilson','michael green','lisa brown','jane smith','emily johnson','john doe']):\n",
    "    \"\"\"\n",
    "    Canceling an appointment.\n",
    "    The parameters MUST be mentioned by the user in the query.\n",
    "    \"\"\"\n",
    "    df = pd.read_csv(r\"../data/doctor_availability.csv\")\n",
    "    case_to_remove = df[(df['date_slot'] == date.date)&(df['patient_to_attend'] == id_number.id)&(df['doctor_name'] == doctor_name)]\n",
    "    if len(case_to_remove) == 0:\n",
    "        return \"You don´t have any appointment with that specifications\"\n",
    "    else:\n",
    "        df.loc[(df['date_slot'] == date.date) & (df['patient_to_attend'] == id_number.id) & (df['doctor_name'] == doctor_name), ['is_available', 'patient_to_attend']] = [True, None]\n",
    "        df.to_csv(f\"../data/doctor_availability.csv\", index = False)\n",
    "\n",
    "        return \"Successfully cancelled\"\n"
   ]
  },
  {
   "cell_type": "code",
   "execution_count": 80,
   "metadata": {},
   "outputs": [
    {
     "data": {
      "text/plain": [
       "DateTimeModel(date='07-08-2024 08:30')"
      ]
     },
     "execution_count": 80,
     "metadata": {},
     "output_type": "execute_result"
    }
   ],
   "source": [
    "Date = DateTimeModel(date=\"07-08-2024 08:30\")\n",
    "Date"
   ]
  },
  {
   "cell_type": "code",
   "execution_count": 81,
   "metadata": {},
   "outputs": [
    {
     "data": {
      "text/plain": [
       "IdentificationNumberModel(id=1000097)"
      ]
     },
     "execution_count": 81,
     "metadata": {},
     "output_type": "execute_result"
    }
   ],
   "source": [
    "IDNumber = IdentificationNumberModel(id=1000097)\n",
    "IDNumber"
   ]
  },
  {
   "cell_type": "code",
   "execution_count": 82,
   "metadata": {},
   "outputs": [
    {
     "name": "stdout",
     "output_type": "stream",
     "text": [
      "Successfully cancelled\n"
     ]
    }
   ],
   "source": [
    "print(cancel_appointment.invoke({\"date\": Date,\"id_number\":IDNumber,\"doctor_name\":\"john doe\"}))"
   ]
  },
  {
   "cell_type": "code",
   "execution_count": 83,
   "metadata": {},
   "outputs": [],
   "source": [
    "@tool\n",
    "def set_appointment(desired_date:DateTimeModel, id_number:IdentificationNumberModel, doctor_name:Literal['kevin anderson','robert martinez','susan davis','daniel miller','sarah wilson','michael green','lisa brown','jane smith','emily johnson','john doe']):\n",
    "    \"\"\"\n",
    "    Set appointment or slot with the doctor.\n",
    "    The parameters MUST be mentioned by the user in the query.\n",
    "    \"\"\"\n",
    "    df = pd.read_csv(r\"../data/doctor_availability.csv\")\n",
    "   \n",
    "    from datetime import datetime\n",
    "    def convert_datetime_format(dt_str):\n",
    "        # Parse the input datetime string\n",
    "        #dt = datetime.strptime(dt_str, \"%Y-%m-%d %H:%M\")\n",
    "        dt = datetime.strptime(dt_str, \"%d-%m-%Y %H:%M\")\n",
    "        \n",
    "        # Format the output as 'DD-MM-YYYY H.M' (removing leading zero from hour only)\n",
    "        return dt.strftime(\"%d-%m-%Y %#H.%M\")\n",
    "    \n",
    "    case = df[(df['date_slot'] == convert_datetime_format(desired_date.date))&(df['doctor_name'] == doctor_name)&(df['is_available'] == True)]\n",
    "    if len(case) == 0:\n",
    "        return \"No available appointments for that particular case\"\n",
    "    else:\n",
    "        df.loc[(df['date_slot'] == convert_datetime_format(desired_date.date))&(df['doctor_name'] == doctor_name) & (df['is_available'] == True), ['is_available','patient_to_attend']] = [False, id_number.id]\n",
    "        df.to_csv(f\"../data/doctor_availability.csv\", index = False)\n",
    "\n",
    "        return \"Succesfully done\""
   ]
  },
  {
   "cell_type": "code",
   "execution_count": 34,
   "metadata": {},
   "outputs": [
    {
     "data": {
      "text/plain": [
       "DateTimeModel(date='07-08-2024 08:30')"
      ]
     },
     "execution_count": 34,
     "metadata": {},
     "output_type": "execute_result"
    }
   ],
   "source": [
    "Date = DateTimeModel(date=\"07-08-2024 08:30\")\n",
    "Date"
   ]
  },
  {
   "cell_type": "code",
   "execution_count": 35,
   "metadata": {},
   "outputs": [
    {
     "data": {
      "text/plain": [
       "IdentificationNumberModel(id=1000097)"
      ]
     },
     "execution_count": 35,
     "metadata": {},
     "output_type": "execute_result"
    }
   ],
   "source": [
    "IDNumber = IdentificationNumberModel(id=1000097)\n",
    "IDNumber"
   ]
  },
  {
   "cell_type": "code",
   "execution_count": 36,
   "metadata": {},
   "outputs": [
    {
     "name": "stdout",
     "output_type": "stream",
     "text": [
      "No available appointments for that particular case\n"
     ]
    }
   ],
   "source": [
    "print(set_appointment.invoke({\"desired_date\":Date,\"id_number\":IDNumber,\"doctor_name\":\"john doe\"}))"
   ]
  },
  {
   "cell_type": "code",
   "execution_count": 37,
   "metadata": {},
   "outputs": [],
   "source": [
    "class Router(TypedDict):\n",
    "    next: Literal[\"information_node\",\"booking_node\",\"FINISH\"]\n",
    "    reasoning: str"
   ]
  },
  {
   "cell_type": "code",
   "execution_count": 38,
   "metadata": {},
   "outputs": [],
   "source": [
    "class AgentState(TypedDict):\n",
    "    messages: Annotated[list[Any], add_messages]\n",
    "    id_number: int\n",
    "    next:str\n",
    "    query: str\n",
    "    current_reasoning: str"
   ]
  },
  {
   "cell_type": "code",
   "execution_count": 92,
   "metadata": {},
   "outputs": [],
   "source": [
    "members_dict = {'information_node':'specialized agent to provide information related to availability of doctors or any FAQs related to hospital.','booking_node':'specialized agent to only to book, cancel or reschedule appointment'}"
   ]
  },
  {
   "cell_type": "code",
   "execution_count": 93,
   "metadata": {},
   "outputs": [
    {
     "data": {
      "text/plain": [
       "{'information_node': 'specialized agent to provide information related to availability of doctors or any FAQs related to hospital.',\n",
       " 'booking_node': 'specialized agent to only to book, cancel or reschedule appointment'}"
      ]
     },
     "execution_count": 93,
     "metadata": {},
     "output_type": "execute_result"
    }
   ],
   "source": [
    "members_dict"
   ]
  },
  {
   "cell_type": "code",
   "execution_count": 94,
   "metadata": {},
   "outputs": [],
   "source": [
    "options = list(members_dict.keys()) + [\"FINISH\"]"
   ]
  },
  {
   "cell_type": "code",
   "execution_count": 95,
   "metadata": {},
   "outputs": [
    {
     "data": {
      "text/plain": [
       "['information_node', 'booking_node', 'FINISH']"
      ]
     },
     "execution_count": 95,
     "metadata": {},
     "output_type": "execute_result"
    }
   ],
   "source": [
    "options"
   ]
  },
  {
   "cell_type": "code",
   "execution_count": 96,
   "metadata": {},
   "outputs": [],
   "source": [
    "worker_info = '\\n\\n'.join([f'WORKER: {member} \\nDESCRIPTION: {description}' for member, description in members_dict.items()]) + '\\n\\nWORKER: FINISH \\nDESCRIPTION: If User Query is answered and route to Finished'"
   ]
  },
  {
   "cell_type": "code",
   "execution_count": 97,
   "metadata": {},
   "outputs": [
    {
     "name": "stdout",
     "output_type": "stream",
     "text": [
      "WORKER: information_node \n",
      "DESCRIPTION: specialized agent to provide information related to availability of doctors or any FAQs related to hospital.\n",
      "\n",
      "WORKER: booking_node \n",
      "DESCRIPTION: specialized agent to only to book, cancel or reschedule appointment\n",
      "\n",
      "WORKER: FINISH \n",
      "DESCRIPTION: If User Query is answered and route to Finished\n"
     ]
    }
   ],
   "source": [
    "print(worker_info)"
   ]
  },
  {
   "cell_type": "code",
   "execution_count": 98,
   "metadata": {},
   "outputs": [],
   "source": [
    "system_prompt = (\n",
    "    \"You are a supervisor tasked with managing a conversation between following workers. \"\n",
    "    \"### SPECIALIZED ASSISTANT:\\n\"\n",
    "    f\"{worker_info}\\n\\n\"\n",
    "    \"Your primary role is to help the user make an appointment with the doctor and provide updates on FAQs and doctor's availability. \"\n",
    "    \"If a customer requests to know the availability of a doctor or to book, reschedule, or cancel an appointment, \"\n",
    "    \"delegate the task to the appropriate specialized workers. Given the following user request,\"\n",
    "    \" respond with the worker to act next. Each worker will perform a\"\n",
    "    \" task and respond with their results and status. When finished,\"\n",
    "    \" respond with FINISH.\"\n",
    "    \"UTILIZE last conversation to assess if the conversation should end you answered the query, then route to FINISH \"\n",
    "     )"
   ]
  },
  {
   "cell_type": "code",
   "execution_count": 99,
   "metadata": {},
   "outputs": [
    {
     "name": "stdout",
     "output_type": "stream",
     "text": [
      "You are a supervisor tasked with managing a conversation between following workers. ### SPECIALIZED ASSISTANT:\n",
      "WORKER: information_node \n",
      "DESCRIPTION: specialized agent to provide information related to availability of doctors or any FAQs related to hospital.\n",
      "\n",
      "WORKER: booking_node \n",
      "DESCRIPTION: specialized agent to only to book, cancel or reschedule appointment\n",
      "\n",
      "WORKER: FINISH \n",
      "DESCRIPTION: If User Query is answered and route to Finished\n",
      "\n",
      "Your primary role is to help the user make an appointment with the doctor and provide updates on FAQs and doctor's availability. If a customer requests to know the availability of a doctor or to book, reschedule, or cancel an appointment, delegate the task to the appropriate specialized workers. Given the following user request, respond with the worker to act next. Each worker will perform a task and respond with their results and status. When finished, respond with FINISH.UTILIZE last conversation to assess if the conversation should end you answered the query, then route to FINISH \n"
     ]
    }
   ],
   "source": [
    "print(system_prompt)"
   ]
  },
  {
   "cell_type": "code",
   "execution_count": 100,
   "metadata": {},
   "outputs": [],
   "source": [
    "def supervisor_node(state:AgentState) -> Command[Literal['information_node', 'booking_node', '__end__']]:\n",
    "    print(\"**************************below is my state right after entering****************************\")\n",
    "    print(state)\n",
    "    \n",
    "    messages = [\n",
    "        {\"role\": \"system\", \"content\": system_prompt},\n",
    "        {\"role\": \"user\", \"content\": f\"user's identification number is {state['id_number']}\"},\n",
    "    ] + state[\"messages\"]\n",
    "    \n",
    "    print(\"***********************this is my message*****************************************\")\n",
    "    print(messages)\n",
    "    \n",
    "    # query = state['messages'][-1].content if state[\"messages\"] else \"\"\n",
    "    query = ''\n",
    "    if len(state['messages']) == 1:\n",
    "        query = state['messages'][0].content\n",
    "      \n",
    "    print(\"************below is my query********************\")    \n",
    "    print(query)\n",
    "    \n",
    "    response = openai_model.with_structured_output(Router).invoke(messages)\n",
    "    \n",
    "    goto = response[\"next\"]\n",
    "    \n",
    "    print(\"********************************this is my goto*************************\")\n",
    "    print(goto)\n",
    "    \n",
    "    print(\"********************************\")\n",
    "    print(response[\"reasoning\"])\n",
    "          \n",
    "    if goto == \"FINISH\":\n",
    "        goto = END\n",
    "        \n",
    "    print(\"**************************below is my state****************************\")\n",
    "    print(state)\n",
    "    \n",
    "    if query:\n",
    "        return Command(goto=goto, update={'next': goto, \n",
    "                                          'query': query, \n",
    "                                          'current_reasoning': response[\"reasoning\"],\n",
    "                                          'messages': [HumanMessage(content=f\"user's identification number is {state['id_number']}\")]\n",
    "                        })\n",
    "    return Command(goto=goto, update={'next': goto, \n",
    "                                      'current_reasoning': response[\"reasoning\"]}\n",
    "                   )"
   ]
  },
  {
   "cell_type": "code",
   "execution_count": 102,
   "metadata": {},
   "outputs": [],
   "source": [
    "def information_node(state:AgentState) -> Command[Literal['supervisor']]:\n",
    "    print(\"*****************called information node************\")\n",
    "    \n",
    "    system_prompt = \"You are specialized agent to provide information related to availability of doctors or any FAQs related to hospital based on the query. You have access to the tool.\\n Make sure to ask user politely if you need any further information to execute the tool.\\n For your information, Always consider current year is 2024.\"\n",
    "    \n",
    "    system_prompt = ChatPromptTemplate.from_messages(\n",
    "            [\n",
    "                (\n",
    "                    \"system\",\n",
    "                    system_prompt\n",
    "                ),\n",
    "                (\n",
    "                    \"placeholder\", \n",
    "                    \"{messages}\"\n",
    "                ),\n",
    "            ]\n",
    "        )\n",
    "    \n",
    "    information_agent = create_react_agent(model=openai_model,tools=[check_availability_by_doctor,check_availability_by_specialization] ,prompt=system_prompt)\n",
    "    \n",
    "    result = information_agent.invoke(state)\n",
    "    \n",
    "    return Command(\n",
    "        update={\n",
    "            \"messages\": state[\"messages\"] + [\n",
    "                AIMessage(content=result[\"messages\"][-1].content, name=\"information_node\")\n",
    "                #HumanMessage(content=result[\"messages\"][-1].content, name=\"information_node\")\n",
    "            ]\n",
    "        },\n",
    "        goto=\"supervisor\",\n",
    "    )"
   ]
  },
  {
   "cell_type": "code",
   "execution_count": 104,
   "metadata": {},
   "outputs": [],
   "source": [
    "def booking_node(state:AgentState) ->  Command[Literal['supervisor']]:\n",
    "    \n",
    "    print(\"*****************called booking node************\")\n",
    "    \n",
    "    system_prompt = \"You are specialized agent to set, cancel or reschedule appointment based on the query. You have access to the tool.\\n Make sure to ask user politely if you need any further information to execute the tool.\\n For your information, Always consider current year is 2024.\"\n",
    "    \n",
    "    system_prompt = ChatPromptTemplate.from_messages(\n",
    "            [\n",
    "                (\n",
    "                    \"system\",\n",
    "                    system_prompt\n",
    "                ),\n",
    "                (\n",
    "                    \"placeholder\", \n",
    "                    \"{messages}\"\n",
    "                ),\n",
    "            ]\n",
    "        )\n",
    "    booking_agent = create_react_agent(model=openai_model,tools=[set_appointment,cancel_appointment,reschedule_appointment],prompt=system_prompt)\n",
    "\n",
    "    result = booking_agent.invoke(state)\n",
    "    \n",
    "    return Command(\n",
    "        update={\n",
    "            \"messages\": state[\"messages\"] + [\n",
    "                AIMessage(content=result[\"messages\"][-1].content, name=\"booking_node\")\n",
    "                #HumanMessage(content=result[\"messages\"][-1].content, name=\"booking_node\")\n",
    "            ]\n",
    "        },\n",
    "        goto=\"supervisor\",\n",
    "    )"
   ]
  },
  {
   "cell_type": "code",
   "execution_count": 105,
   "metadata": {},
   "outputs": [],
   "source": [
    "graph = StateGraph(AgentState)"
   ]
  },
  {
   "cell_type": "code",
   "execution_count": 106,
   "metadata": {},
   "outputs": [
    {
     "data": {
      "text/plain": [
       "<langgraph.graph.state.StateGraph at 0x1daab01e1a0>"
      ]
     },
     "execution_count": 106,
     "metadata": {},
     "output_type": "execute_result"
    }
   ],
   "source": [
    "graph.add_node(\"supervisor\", supervisor_node)"
   ]
  },
  {
   "cell_type": "code",
   "execution_count": 107,
   "metadata": {},
   "outputs": [
    {
     "data": {
      "text/plain": [
       "<langgraph.graph.state.StateGraph at 0x1daab01e1a0>"
      ]
     },
     "execution_count": 107,
     "metadata": {},
     "output_type": "execute_result"
    }
   ],
   "source": [
    "graph.add_node(\"information_node\", information_node)"
   ]
  },
  {
   "cell_type": "code",
   "execution_count": 108,
   "metadata": {},
   "outputs": [
    {
     "data": {
      "text/plain": [
       "<langgraph.graph.state.StateGraph at 0x1daab01e1a0>"
      ]
     },
     "execution_count": 108,
     "metadata": {},
     "output_type": "execute_result"
    }
   ],
   "source": [
    "graph.add_node(\"booking_node\", booking_node)"
   ]
  },
  {
   "cell_type": "code",
   "execution_count": 110,
   "metadata": {},
   "outputs": [
    {
     "data": {
      "text/plain": [
       "<langgraph.graph.state.StateGraph at 0x1daab01e1a0>"
      ]
     },
     "execution_count": 110,
     "metadata": {},
     "output_type": "execute_result"
    }
   ],
   "source": [
    "graph.add_edge(START, \"supervisor\")"
   ]
  },
  {
   "cell_type": "code",
   "execution_count": 111,
   "metadata": {},
   "outputs": [],
   "source": [
    "app = graph.compile()"
   ]
  },
  {
   "cell_type": "code",
   "execution_count": 112,
   "metadata": {},
   "outputs": [
    {
     "name": "stdout",
     "output_type": "stream",
     "text": [
      "Graph(nodes={'__start__': Node(id='__start__', name='__start__', data=<class 'langchain_core.utils.pydantic.LangGraphInput'>, metadata=None), 'supervisor': Node(id='supervisor', name='supervisor', data=supervisor(tags=None, recurse=True, explode_args=False, func_accepts_config=False, func_accepts={}), metadata=None), 'information_node': Node(id='information_node', name='information_node', data=information_node(tags=None, recurse=True, explode_args=False, func_accepts_config=False, func_accepts={}), metadata=None), 'booking_node': Node(id='booking_node', name='booking_node', data=booking_node(tags=None, recurse=True, explode_args=False, func_accepts_config=False, func_accepts={}), metadata=None), '__end__': Node(id='__end__', name='__end__', data=<class 'langchain_core.utils.pydantic.LangGraphOutput'>, metadata=None)}, edges=[Edge(source='__start__', target='supervisor', data=None, conditional=False), Edge(source='supervisor', target='information_node', data=None, conditional=True), Edge(source='supervisor', target='booking_node', data=None, conditional=True), Edge(source='supervisor', target='__end__', data=None, conditional=True), Edge(source='information_node', target='supervisor', data=None, conditional=True), Edge(source='booking_node', target='supervisor', data=None, conditional=True)])\n"
     ]
    }
   ],
   "source": [
    "import langgraph\n",
    "\n",
    "graph = app.get_graph()\n",
    "print(graph)"
   ]
  },
  {
   "cell_type": "code",
   "execution_count": 113,
   "metadata": {},
   "outputs": [
    {
     "data": {
      "image/png": "[encoded data removed]",
      "text/plain": [
       "<IPython.core.display.Image object>"
      ]
     },
     "metadata": {},
     "output_type": "display_data"
    }
   ],
   "source": [
    "from IPython.display import Image, display\n",
    "display(Image(app.get_graph().draw_mermaid_png()))"
   ]
  },
  {
   "cell_type": "code",
   "execution_count": 114,
   "metadata": {},
   "outputs": [],
   "source": [
    "inputs = [\n",
    "        HumanMessage(content='can you check and make a booking if general dentist available on 8 August 2024 at 8 PM?')\n",
    "    ]"
   ]
  },
  {
   "cell_type": "code",
   "execution_count": 115,
   "metadata": {},
   "outputs": [],
   "source": [
    "state = {'messages': inputs,'id_number':10232303}\n"
   ]
  },
  {
   "cell_type": "code",
   "execution_count": 116,
   "metadata": {},
   "outputs": [
    {
     "name": "stdout",
     "output_type": "stream",
     "text": [
      "**************************below is my state right after entering****************************\n",
      "{'messages': [HumanMessage(content='can you check and make a booking if general dentist available on 8 August 2024 at 8 PM?', additional_kwargs={}, response_metadata={}, id='c656cd2d-5097-48b9-8010-c86dc204958f')], 'id_number': 10232303}\n",
      "***********************this is my message*****************************************\n",
      "[{'role': 'system', 'content': \"You are a supervisor tasked with managing a conversation between following workers. ### SPECIALIZED ASSISTANT:\\nWORKER: information_node \\nDESCRIPTION: specialized agent to provide information related to availability of doctors or any FAQs related to hospital.\\n\\nWORKER: booking_node \\nDESCRIPTION: specialized agent to only to book, cancel or reschedule appointment\\n\\nWORKER: FINISH \\nDESCRIPTION: If User Query is answered and route to Finished\\n\\nYour primary role is to help the user make an appointment with the doctor and provide updates on FAQs and doctor's availability. If a customer requests to know the availability of a doctor or to book, reschedule, or cancel an appointment, delegate the task to the appropriate specialized workers. Given the following user request, respond with the worker to act next. Each worker will perform a task and respond with their results and status. When finished, respond with FINISH.UTILIZE last conversation to assess if the conversation should end you answered the query, then route to FINISH \"}, {'role': 'user', 'content': \"user's identification number is 10232303\"}, HumanMessage(content='can you check and make a booking if general dentist available on 8 August 2024 at 8 PM?', additional_kwargs={}, response_metadata={}, id='c656cd2d-5097-48b9-8010-c86dc204958f')]\n",
      "************below is my query********************\n",
      "can you check and make a booking if general dentist available on 8 August 2024 at 8 PM?\n",
      "********************************this is my goto*************************\n",
      "information_node\n",
      "********************************\n",
      "First, we need to check the availability of a general dentist on the requested date and time before proceeding with booking the appointment.\n",
      "**************************below is my state****************************\n",
      "{'messages': [HumanMessage(content='can you check and make a booking if general dentist available on 8 August 2024 at 8 PM?', additional_kwargs={}, response_metadata={}, id='c656cd2d-5097-48b9-8010-c86dc204958f')], 'id_number': 10232303}\n",
      "*****************called information node************\n",
      "**************************below is my state right after entering****************************\n",
      "{'messages': [HumanMessage(content='can you check and make a booking if general dentist available on 8 August 2024 at 8 PM?', additional_kwargs={}, response_metadata={}, id='c656cd2d-5097-48b9-8010-c86dc204958f'), HumanMessage(content=\"user's identification number is 10232303\", additional_kwargs={}, response_metadata={}, id='cfb29d68-33e8-429e-8af1-acd0257339d4'), AIMessage(content=\"I'll check the availability for a general dentist on August 8, 2024, at 8 PM. Please hold on for a moment.\", additional_kwargs={}, response_metadata={}, name='information_node', id='815c4aaa-0960-4884-810e-02f4c7eb8ee6')], 'id_number': 10232303, 'next': 'information_node', 'query': 'can you check and make a booking if general dentist available on 8 August 2024 at 8 PM?', 'current_reasoning': 'First, we need to check the availability of a general dentist on the requested date and time before proceeding with booking the appointment.'}\n",
      "***********************this is my message*****************************************\n",
      "[{'role': 'system', 'content': \"You are a supervisor tasked with managing a conversation between following workers. ### SPECIALIZED ASSISTANT:\\nWORKER: information_node \\nDESCRIPTION: specialized agent to provide information related to availability of doctors or any FAQs related to hospital.\\n\\nWORKER: booking_node \\nDESCRIPTION: specialized agent to only to book, cancel or reschedule appointment\\n\\nWORKER: FINISH \\nDESCRIPTION: If User Query is answered and route to Finished\\n\\nYour primary role is to help the user make an appointment with the doctor and provide updates on FAQs and doctor's availability. If a customer requests to know the availability of a doctor or to book, reschedule, or cancel an appointment, delegate the task to the appropriate specialized workers. Given the following user request, respond with the worker to act next. Each worker will perform a task and respond with their results and status. When finished, respond with FINISH.UTILIZE last conversation to assess if the conversation should end you answered the query, then route to FINISH \"}, {'role': 'user', 'content': \"user's identification number is 10232303\"}, HumanMessage(content='can you check and make a booking if general dentist available on 8 August 2024 at 8 PM?', additional_kwargs={}, response_metadata={}, id='c656cd2d-5097-48b9-8010-c86dc204958f'), HumanMessage(content=\"user's identification number is 10232303\", additional_kwargs={}, response_metadata={}, id='cfb29d68-33e8-429e-8af1-acd0257339d4'), AIMessage(content=\"I'll check the availability for a general dentist on August 8, 2024, at 8 PM. Please hold on for a moment.\", additional_kwargs={}, response_metadata={}, name='information_node', id='815c4aaa-0960-4884-810e-02f4c7eb8ee6')]\n",
      "************below is my query********************\n",
      "\n",
      "********************************this is my goto*************************\n",
      "information_node\n",
      "********************************\n",
      "The user is asking to check the availability of a general dentist on a specific date and time, which falls under the category of checking a doctor's availability. Thus, this task should be delegated to the information_node.\n",
      "**************************below is my state****************************\n",
      "{'messages': [HumanMessage(content='can you check and make a booking if general dentist available on 8 August 2024 at 8 PM?', additional_kwargs={}, response_metadata={}, id='c656cd2d-5097-48b9-8010-c86dc204958f'), HumanMessage(content=\"user's identification number is 10232303\", additional_kwargs={}, response_metadata={}, id='cfb29d68-33e8-429e-8af1-acd0257339d4'), AIMessage(content=\"I'll check the availability for a general dentist on August 8, 2024, at 8 PM. Please hold on for a moment.\", additional_kwargs={}, response_metadata={}, name='information_node', id='815c4aaa-0960-4884-810e-02f4c7eb8ee6')], 'id_number': 10232303, 'next': 'information_node', 'query': 'can you check and make a booking if general dentist available on 8 August 2024 at 8 PM?', 'current_reasoning': 'First, we need to check the availability of a general dentist on the requested date and time before proceeding with booking the appointment.'}\n",
      "*****************called information node************\n",
      "**************************below is my state right after entering****************************\n",
      "{'messages': [HumanMessage(content='can you check and make a booking if general dentist available on 8 August 2024 at 8 PM?', additional_kwargs={}, response_metadata={}, id='c656cd2d-5097-48b9-8010-c86dc204958f'), HumanMessage(content=\"user's identification number is 10232303\", additional_kwargs={}, response_metadata={}, id='cfb29d68-33e8-429e-8af1-acd0257339d4'), AIMessage(content=\"I'll check the availability for a general dentist on August 8, 2024, at 8 PM. Please hold on for a moment.\", additional_kwargs={}, response_metadata={}, name='information_node', id='815c4aaa-0960-4884-810e-02f4c7eb8ee6'), AIMessage(content='There are no available slots for a general dentist on August 8, 2024, at 8 PM. However, here are the available slots for that day with general dentists:\\n\\nFor Dr. Emily Johnson:\\n- 8:00 AM\\n- 8:30 AM\\n- 10:00 AM\\n- 10:30 AM\\n- 11:00 AM\\n- 11:30 AM\\n- 12:00 PM\\n- 12:30 PM\\n- 1:30 PM\\n- 2:30 PM\\n- 3:30 PM\\n- 4:30 PM\\n\\nFor Dr. John Doe:\\n- 8:00 AM\\n- 9:00 AM\\n- 9:30 AM\\n- 10:00 AM\\n- 12:00 PM\\n- 1:30 PM\\n- 2:00 PM\\n- 3:00 PM\\n- 3:30 PM\\n- 4:00 PM\\n- 4:30 PM\\n\\nPlease let me know if you would like to book any of these available slots.', additional_kwargs={}, response_metadata={}, name='information_node', id='80063624-fc47-43a9-8aff-9f076fb26bb9')], 'id_number': 10232303, 'next': 'information_node', 'query': 'can you check and make a booking if general dentist available on 8 August 2024 at 8 PM?', 'current_reasoning': \"The user is asking to check the availability of a general dentist on a specific date and time, which falls under the category of checking a doctor's availability. Thus, this task should be delegated to the information_node.\"}\n",
      "***********************this is my message*****************************************\n",
      "[{'role': 'system', 'content': \"You are a supervisor tasked with managing a conversation between following workers. ### SPECIALIZED ASSISTANT:\\nWORKER: information_node \\nDESCRIPTION: specialized agent to provide information related to availability of doctors or any FAQs related to hospital.\\n\\nWORKER: booking_node \\nDESCRIPTION: specialized agent to only to book, cancel or reschedule appointment\\n\\nWORKER: FINISH \\nDESCRIPTION: If User Query is answered and route to Finished\\n\\nYour primary role is to help the user make an appointment with the doctor and provide updates on FAQs and doctor's availability. If a customer requests to know the availability of a doctor or to book, reschedule, or cancel an appointment, delegate the task to the appropriate specialized workers. Given the following user request, respond with the worker to act next. Each worker will perform a task and respond with their results and status. When finished, respond with FINISH.UTILIZE last conversation to assess if the conversation should end you answered the query, then route to FINISH \"}, {'role': 'user', 'content': \"user's identification number is 10232303\"}, HumanMessage(content='can you check and make a booking if general dentist available on 8 August 2024 at 8 PM?', additional_kwargs={}, response_metadata={}, id='c656cd2d-5097-48b9-8010-c86dc204958f'), HumanMessage(content=\"user's identification number is 10232303\", additional_kwargs={}, response_metadata={}, id='cfb29d68-33e8-429e-8af1-acd0257339d4'), AIMessage(content=\"I'll check the availability for a general dentist on August 8, 2024, at 8 PM. Please hold on for a moment.\", additional_kwargs={}, response_metadata={}, name='information_node', id='815c4aaa-0960-4884-810e-02f4c7eb8ee6'), AIMessage(content='There are no available slots for a general dentist on August 8, 2024, at 8 PM. However, here are the available slots for that day with general dentists:\\n\\nFor Dr. Emily Johnson:\\n- 8:00 AM\\n- 8:30 AM\\n- 10:00 AM\\n- 10:30 AM\\n- 11:00 AM\\n- 11:30 AM\\n- 12:00 PM\\n- 12:30 PM\\n- 1:30 PM\\n- 2:30 PM\\n- 3:30 PM\\n- 4:30 PM\\n\\nFor Dr. John Doe:\\n- 8:00 AM\\n- 9:00 AM\\n- 9:30 AM\\n- 10:00 AM\\n- 12:00 PM\\n- 1:30 PM\\n- 2:00 PM\\n- 3:00 PM\\n- 3:30 PM\\n- 4:00 PM\\n- 4:30 PM\\n\\nPlease let me know if you would like to book any of these available slots.', additional_kwargs={}, response_metadata={}, name='information_node', id='80063624-fc47-43a9-8aff-9f076fb26bb9')]\n",
      "************below is my query********************\n",
      "\n",
      "********************************this is my goto*************************\n",
      "booking_node\n",
      "********************************\n",
      "The user has requested to make a booking if a general dentist is available. A specialized booking agent should now handle the appointment booking process using the information provided on available slots.\n",
      "**************************below is my state****************************\n",
      "{'messages': [HumanMessage(content='can you check and make a booking if general dentist available on 8 August 2024 at 8 PM?', additional_kwargs={}, response_metadata={}, id='c656cd2d-5097-48b9-8010-c86dc204958f'), HumanMessage(content=\"user's identification number is 10232303\", additional_kwargs={}, response_metadata={}, id='cfb29d68-33e8-429e-8af1-acd0257339d4'), AIMessage(content=\"I'll check the availability for a general dentist on August 8, 2024, at 8 PM. Please hold on for a moment.\", additional_kwargs={}, response_metadata={}, name='information_node', id='815c4aaa-0960-4884-810e-02f4c7eb8ee6'), AIMessage(content='There are no available slots for a general dentist on August 8, 2024, at 8 PM. However, here are the available slots for that day with general dentists:\\n\\nFor Dr. Emily Johnson:\\n- 8:00 AM\\n- 8:30 AM\\n- 10:00 AM\\n- 10:30 AM\\n- 11:00 AM\\n- 11:30 AM\\n- 12:00 PM\\n- 12:30 PM\\n- 1:30 PM\\n- 2:30 PM\\n- 3:30 PM\\n- 4:30 PM\\n\\nFor Dr. John Doe:\\n- 8:00 AM\\n- 9:00 AM\\n- 9:30 AM\\n- 10:00 AM\\n- 12:00 PM\\n- 1:30 PM\\n- 2:00 PM\\n- 3:00 PM\\n- 3:30 PM\\n- 4:00 PM\\n- 4:30 PM\\n\\nPlease let me know if you would like to book any of these available slots.', additional_kwargs={}, response_metadata={}, name='information_node', id='80063624-fc47-43a9-8aff-9f076fb26bb9')], 'id_number': 10232303, 'next': 'information_node', 'query': 'can you check and make a booking if general dentist available on 8 August 2024 at 8 PM?', 'current_reasoning': \"The user is asking to check the availability of a general dentist on a specific date and time, which falls under the category of checking a doctor's availability. Thus, this task should be delegated to the information_node.\"}\n",
      "*****************called booking node************\n",
      "**************************below is my state right after entering****************************\n",
      "{'messages': [HumanMessage(content='can you check and make a booking if general dentist available on 8 August 2024 at 8 PM?', additional_kwargs={}, response_metadata={}, id='c656cd2d-5097-48b9-8010-c86dc204958f'), HumanMessage(content=\"user's identification number is 10232303\", additional_kwargs={}, response_metadata={}, id='cfb29d68-33e8-429e-8af1-acd0257339d4'), AIMessage(content=\"I'll check the availability for a general dentist on August 8, 2024, at 8 PM. Please hold on for a moment.\", additional_kwargs={}, response_metadata={}, name='information_node', id='815c4aaa-0960-4884-810e-02f4c7eb8ee6'), AIMessage(content='There are no available slots for a general dentist on August 8, 2024, at 8 PM. However, here are the available slots for that day with general dentists:\\n\\nFor Dr. Emily Johnson:\\n- 8:00 AM\\n- 8:30 AM\\n- 10:00 AM\\n- 10:30 AM\\n- 11:00 AM\\n- 11:30 AM\\n- 12:00 PM\\n- 12:30 PM\\n- 1:30 PM\\n- 2:30 PM\\n- 3:30 PM\\n- 4:30 PM\\n\\nFor Dr. John Doe:\\n- 8:00 AM\\n- 9:00 AM\\n- 9:30 AM\\n- 10:00 AM\\n- 12:00 PM\\n- 1:30 PM\\n- 2:00 PM\\n- 3:00 PM\\n- 3:30 PM\\n- 4:00 PM\\n- 4:30 PM\\n\\nPlease let me know if you would like to book any of these available slots.', additional_kwargs={}, response_metadata={}, name='information_node', id='80063624-fc47-43a9-8aff-9f076fb26bb9'), AIMessage(content='There are no available slots for a general dentist on August 8, 2024, at 8 PM. However, here are the available slots for that day with general dentists:\\n\\nFor Dr. Emily Johnson:\\n- 8:00 AM\\n- 8:30 AM\\n- 10:00 AM\\n- 10:30 AM\\n- 11:00 AM\\n- 11:30 AM\\n- 12:00 PM\\n- 12:30 PM\\n- 1:30 PM\\n- 2:30 PM\\n- 3:30 PM\\n- 4:30 PM\\n\\nFor Dr. John Doe:\\n- 8:00 AM\\n- 9:00 AM\\n- 9:30 AM\\n- 10:00 AM\\n- 12:00 PM\\n- 1:30 PM\\n- 2:00 PM\\n- 3:00 PM\\n- 3:30 PM\\n- 4:00 PM\\n- 4:30 PM\\n\\nPlease let me know if you would like to book any of these available slots.', additional_kwargs={}, response_metadata={}, name='booking_node', id='671ff2a7-1c31-4599-982b-79cc5d0600fa')], 'id_number': 10232303, 'next': 'booking_node', 'query': 'can you check and make a booking if general dentist available on 8 August 2024 at 8 PM?', 'current_reasoning': 'The user has requested to make a booking if a general dentist is available. A specialized booking agent should now handle the appointment booking process using the information provided on available slots.'}\n",
      "***********************this is my message*****************************************\n",
      "[{'role': 'system', 'content': \"You are a supervisor tasked with managing a conversation between following workers. ### SPECIALIZED ASSISTANT:\\nWORKER: information_node \\nDESCRIPTION: specialized agent to provide information related to availability of doctors or any FAQs related to hospital.\\n\\nWORKER: booking_node \\nDESCRIPTION: specialized agent to only to book, cancel or reschedule appointment\\n\\nWORKER: FINISH \\nDESCRIPTION: If User Query is answered and route to Finished\\n\\nYour primary role is to help the user make an appointment with the doctor and provide updates on FAQs and doctor's availability. If a customer requests to know the availability of a doctor or to book, reschedule, or cancel an appointment, delegate the task to the appropriate specialized workers. Given the following user request, respond with the worker to act next. Each worker will perform a task and respond with their results and status. When finished, respond with FINISH.UTILIZE last conversation to assess if the conversation should end you answered the query, then route to FINISH \"}, {'role': 'user', 'content': \"user's identification number is 10232303\"}, HumanMessage(content='can you check and make a booking if general dentist available on 8 August 2024 at 8 PM?', additional_kwargs={}, response_metadata={}, id='c656cd2d-5097-48b9-8010-c86dc204958f'), HumanMessage(content=\"user's identification number is 10232303\", additional_kwargs={}, response_metadata={}, id='cfb29d68-33e8-429e-8af1-acd0257339d4'), AIMessage(content=\"I'll check the availability for a general dentist on August 8, 2024, at 8 PM. Please hold on for a moment.\", additional_kwargs={}, response_metadata={}, name='information_node', id='815c4aaa-0960-4884-810e-02f4c7eb8ee6'), AIMessage(content='There are no available slots for a general dentist on August 8, 2024, at 8 PM. However, here are the available slots for that day with general dentists:\\n\\nFor Dr. Emily Johnson:\\n- 8:00 AM\\n- 8:30 AM\\n- 10:00 AM\\n- 10:30 AM\\n- 11:00 AM\\n- 11:30 AM\\n- 12:00 PM\\n- 12:30 PM\\n- 1:30 PM\\n- 2:30 PM\\n- 3:30 PM\\n- 4:30 PM\\n\\nFor Dr. John Doe:\\n- 8:00 AM\\n- 9:00 AM\\n- 9:30 AM\\n- 10:00 AM\\n- 12:00 PM\\n- 1:30 PM\\n- 2:00 PM\\n- 3:00 PM\\n- 3:30 PM\\n- 4:00 PM\\n- 4:30 PM\\n\\nPlease let me know if you would like to book any of these available slots.', additional_kwargs={}, response_metadata={}, name='information_node', id='80063624-fc47-43a9-8aff-9f076fb26bb9'), AIMessage(content='There are no available slots for a general dentist on August 8, 2024, at 8 PM. However, here are the available slots for that day with general dentists:\\n\\nFor Dr. Emily Johnson:\\n- 8:00 AM\\n- 8:30 AM\\n- 10:00 AM\\n- 10:30 AM\\n- 11:00 AM\\n- 11:30 AM\\n- 12:00 PM\\n- 12:30 PM\\n- 1:30 PM\\n- 2:30 PM\\n- 3:30 PM\\n- 4:30 PM\\n\\nFor Dr. John Doe:\\n- 8:00 AM\\n- 9:00 AM\\n- 9:30 AM\\n- 10:00 AM\\n- 12:00 PM\\n- 1:30 PM\\n- 2:00 PM\\n- 3:00 PM\\n- 3:30 PM\\n- 4:00 PM\\n- 4:30 PM\\n\\nPlease let me know if you would like to book any of these available slots.', additional_kwargs={}, response_metadata={}, name='booking_node', id='671ff2a7-1c31-4599-982b-79cc5d0600fa')]\n",
      "************below is my query********************\n",
      "\n",
      "********************************this is my goto*************************\n",
      "booking_node\n",
      "********************************\n",
      "The user is seeking to make a booking for a general dentist. Since the requested time slot at 8 PM is not available, the assistant should prompt the user to select an available time slot from those provided earlier. This will allow the 'booking_node' specialist to proceed with the scheduling.\n",
      "**************************below is my state****************************\n",
      "{'messages': [HumanMessage(content='can you check and make a booking if general dentist available on 8 August 2024 at 8 PM?', additional_kwargs={}, response_metadata={}, id='c656cd2d-5097-48b9-8010-c86dc204958f'), HumanMessage(content=\"user's identification number is 10232303\", additional_kwargs={}, response_metadata={}, id='cfb29d68-33e8-429e-8af1-acd0257339d4'), AIMessage(content=\"I'll check the availability for a general dentist on August 8, 2024, at 8 PM. Please hold on for a moment.\", additional_kwargs={}, response_metadata={}, name='information_node', id='815c4aaa-0960-4884-810e-02f4c7eb8ee6'), AIMessage(content='There are no available slots for a general dentist on August 8, 2024, at 8 PM. However, here are the available slots for that day with general dentists:\\n\\nFor Dr. Emily Johnson:\\n- 8:00 AM\\n- 8:30 AM\\n- 10:00 AM\\n- 10:30 AM\\n- 11:00 AM\\n- 11:30 AM\\n- 12:00 PM\\n- 12:30 PM\\n- 1:30 PM\\n- 2:30 PM\\n- 3:30 PM\\n- 4:30 PM\\n\\nFor Dr. John Doe:\\n- 8:00 AM\\n- 9:00 AM\\n- 9:30 AM\\n- 10:00 AM\\n- 12:00 PM\\n- 1:30 PM\\n- 2:00 PM\\n- 3:00 PM\\n- 3:30 PM\\n- 4:00 PM\\n- 4:30 PM\\n\\nPlease let me know if you would like to book any of these available slots.', additional_kwargs={}, response_metadata={}, name='information_node', id='80063624-fc47-43a9-8aff-9f076fb26bb9'), AIMessage(content='There are no available slots for a general dentist on August 8, 2024, at 8 PM. However, here are the available slots for that day with general dentists:\\n\\nFor Dr. Emily Johnson:\\n- 8:00 AM\\n- 8:30 AM\\n- 10:00 AM\\n- 10:30 AM\\n- 11:00 AM\\n- 11:30 AM\\n- 12:00 PM\\n- 12:30 PM\\n- 1:30 PM\\n- 2:30 PM\\n- 3:30 PM\\n- 4:30 PM\\n\\nFor Dr. John Doe:\\n- 8:00 AM\\n- 9:00 AM\\n- 9:30 AM\\n- 10:00 AM\\n- 12:00 PM\\n- 1:30 PM\\n- 2:00 PM\\n- 3:00 PM\\n- 3:30 PM\\n- 4:00 PM\\n- 4:30 PM\\n\\nPlease let me know if you would like to book any of these available slots.', additional_kwargs={}, response_metadata={}, name='booking_node', id='671ff2a7-1c31-4599-982b-79cc5d0600fa')], 'id_number': 10232303, 'next': 'booking_node', 'query': 'can you check and make a booking if general dentist available on 8 August 2024 at 8 PM?', 'current_reasoning': 'The user has requested to make a booking if a general dentist is available. A specialized booking agent should now handle the appointment booking process using the information provided on available slots.'}\n",
      "*****************called booking node************\n",
      "**************************below is my state right after entering****************************\n",
      "{'messages': [HumanMessage(content='can you check and make a booking if general dentist available on 8 August 2024 at 8 PM?', additional_kwargs={}, response_metadata={}, id='c656cd2d-5097-48b9-8010-c86dc204958f'), HumanMessage(content=\"user's identification number is 10232303\", additional_kwargs={}, response_metadata={}, id='cfb29d68-33e8-429e-8af1-acd0257339d4'), AIMessage(content=\"I'll check the availability for a general dentist on August 8, 2024, at 8 PM. Please hold on for a moment.\", additional_kwargs={}, response_metadata={}, name='information_node', id='815c4aaa-0960-4884-810e-02f4c7eb8ee6'), AIMessage(content='There are no available slots for a general dentist on August 8, 2024, at 8 PM. However, here are the available slots for that day with general dentists:\\n\\nFor Dr. Emily Johnson:\\n- 8:00 AM\\n- 8:30 AM\\n- 10:00 AM\\n- 10:30 AM\\n- 11:00 AM\\n- 11:30 AM\\n- 12:00 PM\\n- 12:30 PM\\n- 1:30 PM\\n- 2:30 PM\\n- 3:30 PM\\n- 4:30 PM\\n\\nFor Dr. John Doe:\\n- 8:00 AM\\n- 9:00 AM\\n- 9:30 AM\\n- 10:00 AM\\n- 12:00 PM\\n- 1:30 PM\\n- 2:00 PM\\n- 3:00 PM\\n- 3:30 PM\\n- 4:00 PM\\n- 4:30 PM\\n\\nPlease let me know if you would like to book any of these available slots.', additional_kwargs={}, response_metadata={}, name='information_node', id='80063624-fc47-43a9-8aff-9f076fb26bb9'), AIMessage(content='There are no available slots for a general dentist on August 8, 2024, at 8 PM. However, here are the available slots for that day with general dentists:\\n\\nFor Dr. Emily Johnson:\\n- 8:00 AM\\n- 8:30 AM\\n- 10:00 AM\\n- 10:30 AM\\n- 11:00 AM\\n- 11:30 AM\\n- 12:00 PM\\n- 12:30 PM\\n- 1:30 PM\\n- 2:30 PM\\n- 3:30 PM\\n- 4:30 PM\\n\\nFor Dr. John Doe:\\n- 8:00 AM\\n- 9:00 AM\\n- 9:30 AM\\n- 10:00 AM\\n- 12:00 PM\\n- 1:30 PM\\n- 2:00 PM\\n- 3:00 PM\\n- 3:30 PM\\n- 4:00 PM\\n- 4:30 PM\\n\\nPlease let me know if you would like to book any of these available slots.', additional_kwargs={}, response_metadata={}, name='booking_node', id='671ff2a7-1c31-4599-982b-79cc5d0600fa'), AIMessage(content='Currently, there are no available slots for a general dentist at 8 PM on August 8, 2024. However, you can choose from the available slots listed below:\\n\\n**For Dr. Emily Johnson:**\\n- 8:00 AM\\n- 8:30 AM\\n- 10:00 AM\\n- 10:30 AM\\n- 11:00 AM\\n- 11:30 AM\\n- 12:00 PM\\n- 12:30 PM\\n- 1:30 PM\\n- 2:30 PM\\n- 3:30 PM\\n- 4:30 PM\\n\\n**For Dr. John Doe:**\\n- 8:00 AM\\n- 9:00 AM\\n- 9:30 AM\\n- 10:00 AM\\n- 12:00 PM\\n- 1:30 PM\\n- 2:00 PM\\n- 3:00 PM\\n- 3:30 PM\\n- 4:00 PM\\n- 4:30 PM\\n\\nPlease let me know your preferred doctor and time so I can proceed with the booking.', additional_kwargs={}, response_metadata={}, name='booking_node', id='bd89f336-ff8f-456c-89b9-ed72e4077f7e')], 'id_number': 10232303, 'next': 'booking_node', 'query': 'can you check and make a booking if general dentist available on 8 August 2024 at 8 PM?', 'current_reasoning': \"The user is seeking to make a booking for a general dentist. Since the requested time slot at 8 PM is not available, the assistant should prompt the user to select an available time slot from those provided earlier. This will allow the 'booking_node' specialist to proceed with the scheduling.\"}\n",
      "***********************this is my message*****************************************\n",
      "[{'role': 'system', 'content': \"You are a supervisor tasked with managing a conversation between following workers. ### SPECIALIZED ASSISTANT:\\nWORKER: information_node \\nDESCRIPTION: specialized agent to provide information related to availability of doctors or any FAQs related to hospital.\\n\\nWORKER: booking_node \\nDESCRIPTION: specialized agent to only to book, cancel or reschedule appointment\\n\\nWORKER: FINISH \\nDESCRIPTION: If User Query is answered and route to Finished\\n\\nYour primary role is to help the user make an appointment with the doctor and provide updates on FAQs and doctor's availability. If a customer requests to know the availability of a doctor or to book, reschedule, or cancel an appointment, delegate the task to the appropriate specialized workers. Given the following user request, respond with the worker to act next. Each worker will perform a task and respond with their results and status. When finished, respond with FINISH.UTILIZE last conversation to assess if the conversation should end you answered the query, then route to FINISH \"}, {'role': 'user', 'content': \"user's identification number is 10232303\"}, HumanMessage(content='can you check and make a booking if general dentist available on 8 August 2024 at 8 PM?', additional_kwargs={}, response_metadata={}, id='c656cd2d-5097-48b9-8010-c86dc204958f'), HumanMessage(content=\"user's identification number is 10232303\", additional_kwargs={}, response_metadata={}, id='cfb29d68-33e8-429e-8af1-acd0257339d4'), AIMessage(content=\"I'll check the availability for a general dentist on August 8, 2024, at 8 PM. Please hold on for a moment.\", additional_kwargs={}, response_metadata={}, name='information_node', id='815c4aaa-0960-4884-810e-02f4c7eb8ee6'), AIMessage(content='There are no available slots for a general dentist on August 8, 2024, at 8 PM. However, here are the available slots for that day with general dentists:\\n\\nFor Dr. Emily Johnson:\\n- 8:00 AM\\n- 8:30 AM\\n- 10:00 AM\\n- 10:30 AM\\n- 11:00 AM\\n- 11:30 AM\\n- 12:00 PM\\n- 12:30 PM\\n- 1:30 PM\\n- 2:30 PM\\n- 3:30 PM\\n- 4:30 PM\\n\\nFor Dr. John Doe:\\n- 8:00 AM\\n- 9:00 AM\\n- 9:30 AM\\n- 10:00 AM\\n- 12:00 PM\\n- 1:30 PM\\n- 2:00 PM\\n- 3:00 PM\\n- 3:30 PM\\n- 4:00 PM\\n- 4:30 PM\\n\\nPlease let me know if you would like to book any of these available slots.', additional_kwargs={}, response_metadata={}, name='information_node', id='80063624-fc47-43a9-8aff-9f076fb26bb9'), AIMessage(content='There are no available slots for a general dentist on August 8, 2024, at 8 PM. However, here are the available slots for that day with general dentists:\\n\\nFor Dr. Emily Johnson:\\n- 8:00 AM\\n- 8:30 AM\\n- 10:00 AM\\n- 10:30 AM\\n- 11:00 AM\\n- 11:30 AM\\n- 12:00 PM\\n- 12:30 PM\\n- 1:30 PM\\n- 2:30 PM\\n- 3:30 PM\\n- 4:30 PM\\n\\nFor Dr. John Doe:\\n- 8:00 AM\\n- 9:00 AM\\n- 9:30 AM\\n- 10:00 AM\\n- 12:00 PM\\n- 1:30 PM\\n- 2:00 PM\\n- 3:00 PM\\n- 3:30 PM\\n- 4:00 PM\\n- 4:30 PM\\n\\nPlease let me know if you would like to book any of these available slots.', additional_kwargs={}, response_metadata={}, name='booking_node', id='671ff2a7-1c31-4599-982b-79cc5d0600fa'), AIMessage(content='Currently, there are no available slots for a general dentist at 8 PM on August 8, 2024. However, you can choose from the available slots listed below:\\n\\n**For Dr. Emily Johnson:**\\n- 8:00 AM\\n- 8:30 AM\\n- 10:00 AM\\n- 10:30 AM\\n- 11:00 AM\\n- 11:30 AM\\n- 12:00 PM\\n- 12:30 PM\\n- 1:30 PM\\n- 2:30 PM\\n- 3:30 PM\\n- 4:30 PM\\n\\n**For Dr. John Doe:**\\n- 8:00 AM\\n- 9:00 AM\\n- 9:30 AM\\n- 10:00 AM\\n- 12:00 PM\\n- 1:30 PM\\n- 2:00 PM\\n- 3:00 PM\\n- 3:30 PM\\n- 4:00 PM\\n- 4:30 PM\\n\\nPlease let me know your preferred doctor and time so I can proceed with the booking.', additional_kwargs={}, response_metadata={}, name='booking_node', id='bd89f336-ff8f-456c-89b9-ed72e4077f7e')]\n",
      "************below is my query********************\n",
      "\n",
      "********************************this is my goto*************************\n",
      "booking_node\n",
      "********************************\n",
      "The user has requested to make a booking for a general dentist. Now that the availability has been checked and there's confirmation that the original request time is unavailable, but other options are open, we should proceed with booking based on user's preference on the available slots.\n",
      "**************************below is my state****************************\n",
      "{'messages': [HumanMessage(content='can you check and make a booking if general dentist available on 8 August 2024 at 8 PM?', additional_kwargs={}, response_metadata={}, id='c656cd2d-5097-48b9-8010-c86dc204958f'), HumanMessage(content=\"user's identification number is 10232303\", additional_kwargs={}, response_metadata={}, id='cfb29d68-33e8-429e-8af1-acd0257339d4'), AIMessage(content=\"I'll check the availability for a general dentist on August 8, 2024, at 8 PM. Please hold on for a moment.\", additional_kwargs={}, response_metadata={}, name='information_node', id='815c4aaa-0960-4884-810e-02f4c7eb8ee6'), AIMessage(content='There are no available slots for a general dentist on August 8, 2024, at 8 PM. However, here are the available slots for that day with general dentists:\\n\\nFor Dr. Emily Johnson:\\n- 8:00 AM\\n- 8:30 AM\\n- 10:00 AM\\n- 10:30 AM\\n- 11:00 AM\\n- 11:30 AM\\n- 12:00 PM\\n- 12:30 PM\\n- 1:30 PM\\n- 2:30 PM\\n- 3:30 PM\\n- 4:30 PM\\n\\nFor Dr. John Doe:\\n- 8:00 AM\\n- 9:00 AM\\n- 9:30 AM\\n- 10:00 AM\\n- 12:00 PM\\n- 1:30 PM\\n- 2:00 PM\\n- 3:00 PM\\n- 3:30 PM\\n- 4:00 PM\\n- 4:30 PM\\n\\nPlease let me know if you would like to book any of these available slots.', additional_kwargs={}, response_metadata={}, name='information_node', id='80063624-fc47-43a9-8aff-9f076fb26bb9'), AIMessage(content='There are no available slots for a general dentist on August 8, 2024, at 8 PM. However, here are the available slots for that day with general dentists:\\n\\nFor Dr. Emily Johnson:\\n- 8:00 AM\\n- 8:30 AM\\n- 10:00 AM\\n- 10:30 AM\\n- 11:00 AM\\n- 11:30 AM\\n- 12:00 PM\\n- 12:30 PM\\n- 1:30 PM\\n- 2:30 PM\\n- 3:30 PM\\n- 4:30 PM\\n\\nFor Dr. John Doe:\\n- 8:00 AM\\n- 9:00 AM\\n- 9:30 AM\\n- 10:00 AM\\n- 12:00 PM\\n- 1:30 PM\\n- 2:00 PM\\n- 3:00 PM\\n- 3:30 PM\\n- 4:00 PM\\n- 4:30 PM\\n\\nPlease let me know if you would like to book any of these available slots.', additional_kwargs={}, response_metadata={}, name='booking_node', id='671ff2a7-1c31-4599-982b-79cc5d0600fa'), AIMessage(content='Currently, there are no available slots for a general dentist at 8 PM on August 8, 2024. However, you can choose from the available slots listed below:\\n\\n**For Dr. Emily Johnson:**\\n- 8:00 AM\\n- 8:30 AM\\n- 10:00 AM\\n- 10:30 AM\\n- 11:00 AM\\n- 11:30 AM\\n- 12:00 PM\\n- 12:30 PM\\n- 1:30 PM\\n- 2:30 PM\\n- 3:30 PM\\n- 4:30 PM\\n\\n**For Dr. John Doe:**\\n- 8:00 AM\\n- 9:00 AM\\n- 9:30 AM\\n- 10:00 AM\\n- 12:00 PM\\n- 1:30 PM\\n- 2:00 PM\\n- 3:00 PM\\n- 3:30 PM\\n- 4:00 PM\\n- 4:30 PM\\n\\nPlease let me know your preferred doctor and time so I can proceed with the booking.', additional_kwargs={}, response_metadata={}, name='booking_node', id='bd89f336-ff8f-456c-89b9-ed72e4077f7e')], 'id_number': 10232303, 'next': 'booking_node', 'query': 'can you check and make a booking if general dentist available on 8 August 2024 at 8 PM?', 'current_reasoning': \"The user is seeking to make a booking for a general dentist. Since the requested time slot at 8 PM is not available, the assistant should prompt the user to select an available time slot from those provided earlier. This will allow the 'booking_node' specialist to proceed with the scheduling.\"}\n",
      "*****************called booking node************\n",
      "**************************below is my state right after entering****************************\n",
      "{'messages': [HumanMessage(content='can you check and make a booking if general dentist available on 8 August 2024 at 8 PM?', additional_kwargs={}, response_metadata={}, id='c656cd2d-5097-48b9-8010-c86dc204958f'), HumanMessage(content=\"user's identification number is 10232303\", additional_kwargs={}, response_metadata={}, id='cfb29d68-33e8-429e-8af1-acd0257339d4'), AIMessage(content=\"I'll check the availability for a general dentist on August 8, 2024, at 8 PM. Please hold on for a moment.\", additional_kwargs={}, response_metadata={}, name='information_node', id='815c4aaa-0960-4884-810e-02f4c7eb8ee6'), AIMessage(content='There are no available slots for a general dentist on August 8, 2024, at 8 PM. However, here are the available slots for that day with general dentists:\\n\\nFor Dr. Emily Johnson:\\n- 8:00 AM\\n- 8:30 AM\\n- 10:00 AM\\n- 10:30 AM\\n- 11:00 AM\\n- 11:30 AM\\n- 12:00 PM\\n- 12:30 PM\\n- 1:30 PM\\n- 2:30 PM\\n- 3:30 PM\\n- 4:30 PM\\n\\nFor Dr. John Doe:\\n- 8:00 AM\\n- 9:00 AM\\n- 9:30 AM\\n- 10:00 AM\\n- 12:00 PM\\n- 1:30 PM\\n- 2:00 PM\\n- 3:00 PM\\n- 3:30 PM\\n- 4:00 PM\\n- 4:30 PM\\n\\nPlease let me know if you would like to book any of these available slots.', additional_kwargs={}, response_metadata={}, name='information_node', id='80063624-fc47-43a9-8aff-9f076fb26bb9'), AIMessage(content='There are no available slots for a general dentist on August 8, 2024, at 8 PM. However, here are the available slots for that day with general dentists:\\n\\nFor Dr. Emily Johnson:\\n- 8:00 AM\\n- 8:30 AM\\n- 10:00 AM\\n- 10:30 AM\\n- 11:00 AM\\n- 11:30 AM\\n- 12:00 PM\\n- 12:30 PM\\n- 1:30 PM\\n- 2:30 PM\\n- 3:30 PM\\n- 4:30 PM\\n\\nFor Dr. John Doe:\\n- 8:00 AM\\n- 9:00 AM\\n- 9:30 AM\\n- 10:00 AM\\n- 12:00 PM\\n- 1:30 PM\\n- 2:00 PM\\n- 3:00 PM\\n- 3:30 PM\\n- 4:00 PM\\n- 4:30 PM\\n\\nPlease let me know if you would like to book any of these available slots.', additional_kwargs={}, response_metadata={}, name='booking_node', id='671ff2a7-1c31-4599-982b-79cc5d0600fa'), AIMessage(content='Currently, there are no available slots for a general dentist at 8 PM on August 8, 2024. However, you can choose from the available slots listed below:\\n\\n**For Dr. Emily Johnson:**\\n- 8:00 AM\\n- 8:30 AM\\n- 10:00 AM\\n- 10:30 AM\\n- 11:00 AM\\n- 11:30 AM\\n- 12:00 PM\\n- 12:30 PM\\n- 1:30 PM\\n- 2:30 PM\\n- 3:30 PM\\n- 4:30 PM\\n\\n**For Dr. John Doe:**\\n- 8:00 AM\\n- 9:00 AM\\n- 9:30 AM\\n- 10:00 AM\\n- 12:00 PM\\n- 1:30 PM\\n- 2:00 PM\\n- 3:00 PM\\n- 3:30 PM\\n- 4:00 PM\\n- 4:30 PM\\n\\nPlease let me know your preferred doctor and time so I can proceed with the booking.', additional_kwargs={}, response_metadata={}, name='booking_node', id='bd89f336-ff8f-456c-89b9-ed72e4077f7e'), AIMessage(content='Currently, there are no available slots for a general dentist at 8 PM on August 8, 2024. However, you can choose from the available slots listed below:\\n\\n**For Dr. Emily Johnson:**\\n- 8:00 AM\\n- 8:30 AM\\n- 10:00 AM\\n- 10:30 AM\\n- 11:00 AM\\n- 11:30 AM\\n- 12:00 PM\\n- 12:30 PM\\n- 1:30 PM\\n- 2:30 PM\\n- 3:30 PM\\n- 4:30 PM\\n\\n**For Dr. John Doe:**\\n- 8:00 AM\\n- 9:00 AM\\n- 9:30 AM\\n- 10:00 AM\\n- 12:00 PM\\n- 1:30 PM\\n- 2:00 PM\\n- 3:00 PM\\n- 3:30 PM\\n- 4:00 PM\\n- 4:30 PM\\n\\nPlease let me know your preferred doctor and time so that I can proceed with booking your appointment.', additional_kwargs={}, response_metadata={}, name='booking_node', id='72f14d52-faed-4bd1-b2b8-e34dad487c17')], 'id_number': 10232303, 'next': 'booking_node', 'query': 'can you check and make a booking if general dentist available on 8 August 2024 at 8 PM?', 'current_reasoning': \"The user has requested to make a booking for a general dentist. Now that the availability has been checked and there's confirmation that the original request time is unavailable, but other options are open, we should proceed with booking based on user's preference on the available slots.\"}\n",
      "***********************this is my message*****************************************\n",
      "[{'role': 'system', 'content': \"You are a supervisor tasked with managing a conversation between following workers. ### SPECIALIZED ASSISTANT:\\nWORKER: information_node \\nDESCRIPTION: specialized agent to provide information related to availability of doctors or any FAQs related to hospital.\\n\\nWORKER: booking_node \\nDESCRIPTION: specialized agent to only to book, cancel or reschedule appointment\\n\\nWORKER: FINISH \\nDESCRIPTION: If User Query is answered and route to Finished\\n\\nYour primary role is to help the user make an appointment with the doctor and provide updates on FAQs and doctor's availability. If a customer requests to know the availability of a doctor or to book, reschedule, or cancel an appointment, delegate the task to the appropriate specialized workers. Given the following user request, respond with the worker to act next. Each worker will perform a task and respond with their results and status. When finished, respond with FINISH.UTILIZE last conversation to assess if the conversation should end you answered the query, then route to FINISH \"}, {'role': 'user', 'content': \"user's identification number is 10232303\"}, HumanMessage(content='can you check and make a booking if general dentist available on 8 August 2024 at 8 PM?', additional_kwargs={}, response_metadata={}, id='c656cd2d-5097-48b9-8010-c86dc204958f'), HumanMessage(content=\"user's identification number is 10232303\", additional_kwargs={}, response_metadata={}, id='cfb29d68-33e8-429e-8af1-acd0257339d4'), AIMessage(content=\"I'll check the availability for a general dentist on August 8, 2024, at 8 PM. Please hold on for a moment.\", additional_kwargs={}, response_metadata={}, name='information_node', id='815c4aaa-0960-4884-810e-02f4c7eb8ee6'), AIMessage(content='There are no available slots for a general dentist on August 8, 2024, at 8 PM. However, here are the available slots for that day with general dentists:\\n\\nFor Dr. Emily Johnson:\\n- 8:00 AM\\n- 8:30 AM\\n- 10:00 AM\\n- 10:30 AM\\n- 11:00 AM\\n- 11:30 AM\\n- 12:00 PM\\n- 12:30 PM\\n- 1:30 PM\\n- 2:30 PM\\n- 3:30 PM\\n- 4:30 PM\\n\\nFor Dr. John Doe:\\n- 8:00 AM\\n- 9:00 AM\\n- 9:30 AM\\n- 10:00 AM\\n- 12:00 PM\\n- 1:30 PM\\n- 2:00 PM\\n- 3:00 PM\\n- 3:30 PM\\n- 4:00 PM\\n- 4:30 PM\\n\\nPlease let me know if you would like to book any of these available slots.', additional_kwargs={}, response_metadata={}, name='information_node', id='80063624-fc47-43a9-8aff-9f076fb26bb9'), AIMessage(content='There are no available slots for a general dentist on August 8, 2024, at 8 PM. However, here are the available slots for that day with general dentists:\\n\\nFor Dr. Emily Johnson:\\n- 8:00 AM\\n- 8:30 AM\\n- 10:00 AM\\n- 10:30 AM\\n- 11:00 AM\\n- 11:30 AM\\n- 12:00 PM\\n- 12:30 PM\\n- 1:30 PM\\n- 2:30 PM\\n- 3:30 PM\\n- 4:30 PM\\n\\nFor Dr. John Doe:\\n- 8:00 AM\\n- 9:00 AM\\n- 9:30 AM\\n- 10:00 AM\\n- 12:00 PM\\n- 1:30 PM\\n- 2:00 PM\\n- 3:00 PM\\n- 3:30 PM\\n- 4:00 PM\\n- 4:30 PM\\n\\nPlease let me know if you would like to book any of these available slots.', additional_kwargs={}, response_metadata={}, name='booking_node', id='671ff2a7-1c31-4599-982b-79cc5d0600fa'), AIMessage(content='Currently, there are no available slots for a general dentist at 8 PM on August 8, 2024. However, you can choose from the available slots listed below:\\n\\n**For Dr. Emily Johnson:**\\n- 8:00 AM\\n- 8:30 AM\\n- 10:00 AM\\n- 10:30 AM\\n- 11:00 AM\\n- 11:30 AM\\n- 12:00 PM\\n- 12:30 PM\\n- 1:30 PM\\n- 2:30 PM\\n- 3:30 PM\\n- 4:30 PM\\n\\n**For Dr. John Doe:**\\n- 8:00 AM\\n- 9:00 AM\\n- 9:30 AM\\n- 10:00 AM\\n- 12:00 PM\\n- 1:30 PM\\n- 2:00 PM\\n- 3:00 PM\\n- 3:30 PM\\n- 4:00 PM\\n- 4:30 PM\\n\\nPlease let me know your preferred doctor and time so I can proceed with the booking.', additional_kwargs={}, response_metadata={}, name='booking_node', id='bd89f336-ff8f-456c-89b9-ed72e4077f7e'), AIMessage(content='Currently, there are no available slots for a general dentist at 8 PM on August 8, 2024. However, you can choose from the available slots listed below:\\n\\n**For Dr. Emily Johnson:**\\n- 8:00 AM\\n- 8:30 AM\\n- 10:00 AM\\n- 10:30 AM\\n- 11:00 AM\\n- 11:30 AM\\n- 12:00 PM\\n- 12:30 PM\\n- 1:30 PM\\n- 2:30 PM\\n- 3:30 PM\\n- 4:30 PM\\n\\n**For Dr. John Doe:**\\n- 8:00 AM\\n- 9:00 AM\\n- 9:30 AM\\n- 10:00 AM\\n- 12:00 PM\\n- 1:30 PM\\n- 2:00 PM\\n- 3:00 PM\\n- 3:30 PM\\n- 4:00 PM\\n- 4:30 PM\\n\\nPlease let me know your preferred doctor and time so that I can proceed with booking your appointment.', additional_kwargs={}, response_metadata={}, name='booking_node', id='72f14d52-faed-4bd1-b2b8-e34dad487c17')]\n",
      "************below is my query********************\n",
      "\n",
      "********************************this is my goto*************************\n",
      "FINISH\n",
      "********************************\n",
      "The user now has the relevant information regarding available appointment slots for general dentists on August 8, 2024. At this point, the user can make an informed decision regarding scheduling their appointment. Since the user's original inquiry has been fully addressed, the interaction can be concluded.\n",
      "**************************below is my state****************************\n",
      "{'messages': [HumanMessage(content='can you check and make a booking if general dentist available on 8 August 2024 at 8 PM?', additional_kwargs={}, response_metadata={}, id='c656cd2d-5097-48b9-8010-c86dc204958f'), HumanMessage(content=\"user's identification number is 10232303\", additional_kwargs={}, response_metadata={}, id='cfb29d68-33e8-429e-8af1-acd0257339d4'), AIMessage(content=\"I'll check the availability for a general dentist on August 8, 2024, at 8 PM. Please hold on for a moment.\", additional_kwargs={}, response_metadata={}, name='information_node', id='815c4aaa-0960-4884-810e-02f4c7eb8ee6'), AIMessage(content='There are no available slots for a general dentist on August 8, 2024, at 8 PM. However, here are the available slots for that day with general dentists:\\n\\nFor Dr. Emily Johnson:\\n- 8:00 AM\\n- 8:30 AM\\n- 10:00 AM\\n- 10:30 AM\\n- 11:00 AM\\n- 11:30 AM\\n- 12:00 PM\\n- 12:30 PM\\n- 1:30 PM\\n- 2:30 PM\\n- 3:30 PM\\n- 4:30 PM\\n\\nFor Dr. John Doe:\\n- 8:00 AM\\n- 9:00 AM\\n- 9:30 AM\\n- 10:00 AM\\n- 12:00 PM\\n- 1:30 PM\\n- 2:00 PM\\n- 3:00 PM\\n- 3:30 PM\\n- 4:00 PM\\n- 4:30 PM\\n\\nPlease let me know if you would like to book any of these available slots.', additional_kwargs={}, response_metadata={}, name='information_node', id='80063624-fc47-43a9-8aff-9f076fb26bb9'), AIMessage(content='There are no available slots for a general dentist on August 8, 2024, at 8 PM. However, here are the available slots for that day with general dentists:\\n\\nFor Dr. Emily Johnson:\\n- 8:00 AM\\n- 8:30 AM\\n- 10:00 AM\\n- 10:30 AM\\n- 11:00 AM\\n- 11:30 AM\\n- 12:00 PM\\n- 12:30 PM\\n- 1:30 PM\\n- 2:30 PM\\n- 3:30 PM\\n- 4:30 PM\\n\\nFor Dr. John Doe:\\n- 8:00 AM\\n- 9:00 AM\\n- 9:30 AM\\n- 10:00 AM\\n- 12:00 PM\\n- 1:30 PM\\n- 2:00 PM\\n- 3:00 PM\\n- 3:30 PM\\n- 4:00 PM\\n- 4:30 PM\\n\\nPlease let me know if you would like to book any of these available slots.', additional_kwargs={}, response_metadata={}, name='booking_node', id='671ff2a7-1c31-4599-982b-79cc5d0600fa'), AIMessage(content='Currently, there are no available slots for a general dentist at 8 PM on August 8, 2024. However, you can choose from the available slots listed below:\\n\\n**For Dr. Emily Johnson:**\\n- 8:00 AM\\n- 8:30 AM\\n- 10:00 AM\\n- 10:30 AM\\n- 11:00 AM\\n- 11:30 AM\\n- 12:00 PM\\n- 12:30 PM\\n- 1:30 PM\\n- 2:30 PM\\n- 3:30 PM\\n- 4:30 PM\\n\\n**For Dr. John Doe:**\\n- 8:00 AM\\n- 9:00 AM\\n- 9:30 AM\\n- 10:00 AM\\n- 12:00 PM\\n- 1:30 PM\\n- 2:00 PM\\n- 3:00 PM\\n- 3:30 PM\\n- 4:00 PM\\n- 4:30 PM\\n\\nPlease let me know your preferred doctor and time so I can proceed with the booking.', additional_kwargs={}, response_metadata={}, name='booking_node', id='bd89f336-ff8f-456c-89b9-ed72e4077f7e'), AIMessage(content='Currently, there are no available slots for a general dentist at 8 PM on August 8, 2024. However, you can choose from the available slots listed below:\\n\\n**For Dr. Emily Johnson:**\\n- 8:00 AM\\n- 8:30 AM\\n- 10:00 AM\\n- 10:30 AM\\n- 11:00 AM\\n- 11:30 AM\\n- 12:00 PM\\n- 12:30 PM\\n- 1:30 PM\\n- 2:30 PM\\n- 3:30 PM\\n- 4:30 PM\\n\\n**For Dr. John Doe:**\\n- 8:00 AM\\n- 9:00 AM\\n- 9:30 AM\\n- 10:00 AM\\n- 12:00 PM\\n- 1:30 PM\\n- 2:00 PM\\n- 3:00 PM\\n- 3:30 PM\\n- 4:00 PM\\n- 4:30 PM\\n\\nPlease let me know your preferred doctor and time so that I can proceed with booking your appointment.', additional_kwargs={}, response_metadata={}, name='booking_node', id='72f14d52-faed-4bd1-b2b8-e34dad487c17')], 'id_number': 10232303, 'next': 'booking_node', 'query': 'can you check and make a booking if general dentist available on 8 August 2024 at 8 PM?', 'current_reasoning': \"The user has requested to make a booking for a general dentist. Now that the availability has been checked and there's confirmation that the original request time is unavailable, but other options are open, we should proceed with booking based on user's preference on the available slots.\"}\n"
     ]
    }
   ],
   "source": [
    "result = app.invoke(state)"
   ]
  },
  {
   "cell_type": "code",
   "execution_count": 117,
   "metadata": {},
   "outputs": [
    {
     "data": {
      "text/plain": [
       "'Currently, there are no available slots for a general dentist at 8 PM on August 8, 2024. However, you can choose from the available slots listed below:\\n\\n**For Dr. Emily Johnson:**\\n- 8:00 AM\\n- 8:30 AM\\n- 10:00 AM\\n- 10:30 AM\\n- 11:00 AM\\n- 11:30 AM\\n- 12:00 PM\\n- 12:30 PM\\n- 1:30 PM\\n- 2:30 PM\\n- 3:30 PM\\n- 4:30 PM\\n\\n**For Dr. John Doe:**\\n- 8:00 AM\\n- 9:00 AM\\n- 9:30 AM\\n- 10:00 AM\\n- 12:00 PM\\n- 1:30 PM\\n- 2:00 PM\\n- 3:00 PM\\n- 3:30 PM\\n- 4:00 PM\\n- 4:30 PM\\n\\nPlease let me know your preferred doctor and time so that I can proceed with booking your appointment.'"
      ]
     },
     "execution_count": 117,
     "metadata": {},
     "output_type": "execute_result"
    }
   ],
   "source": [
    "result[\"messages\"][-1].content"
   ]
  },
  {
   "cell_type": "code",
   "execution_count": null,
   "metadata": {},
   "outputs": [],
   "source": []
  }
 ],
 "metadata": {
  "kernelspec": {
   "display_name": "venv",
   "language": "python",
   "name": "python3"
  },
  "language_info": {
   "codemirror_mode": {
    "name": "ipython",
    "version": 3
   },
   "file_extension": ".py",
   "mimetype": "text/x-python",
   "name": "python",
   "nbconvert_exporter": "python",
   "pygments_lexer": "ipython3",
   "version": "3.10.16"
  }
 },
 "nbformat": 4,
 "nbformat_minor": 2
}
